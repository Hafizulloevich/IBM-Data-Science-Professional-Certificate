{
 "cells": [
  {
   "cell_type": "code",
   "execution_count": 3,
   "id": "159b4312",
   "metadata": {},
   "outputs": [],
   "source": [
    "class Employee:\n",
    "    def __init__(self, fname, lname):\n",
    "        self.fname = fname\n",
    "        self.lname = lname\n",
    "\n",
    "\n",
    "class SalaryEmployee(Employee):\n",
    "    def __init__(self, fname, lname, salary):\n",
    "        super().__init__(fname, lname)\n",
    "        self.salary = salary\n",
    "\n",
    "    def calculate_paycheck(self):\n",
    "        return self.salary/52\n",
    "\n",
    "class HourlyEmployee(Employee):\n",
    "    def __init__(self, fname, lname, weekly_hours, hourly_rate):\n",
    "        super().__init__(fname, lname)\n",
    "        self.weekly_hours = weekly_hours\n",
    "        self.hourly_rate = hourly_rate\n",
    "\n",
    "    def calculate_paycheck(self):\n",
    "        return self.weekly_hours * self.hourly_rate\n",
    "\n",
    "\n",
    "class CommissionEmployee(SalaryEmployee):\n",
    "    def __init__(self, fname, lname, salary, sales_num, com_rate):\n",
    "        super().__init__(fname, lname, salary)\n",
    "        self.sales_num = sales_num\n",
    "        self.com_rate = com_rate\n",
    "\n",
    "    def calculate_paycheck(self):\n",
    "        regular_salary = super().calculate_paycheck()\n",
    "        total_commission = self.sales_num * self.com_rate\n",
    "        return regular_salary + total_commission"
   ]
  },
  {
   "cell_type": "markdown",
   "id": "37f65cb3",
   "metadata": {},
   "source": [
    "#On the above you can see the 'employee.py'"
   ]
  },
  {
   "cell_type": "code",
   "execution_count": 4,
   "id": "00f6d78f",
   "metadata": {},
   "outputs": [
    {
     "ename": "ModuleNotFoundError",
     "evalue": "No module named 'employee'",
     "output_type": "error",
     "traceback": [
      "\u001b[1;31m---------------------------------------------------------------------------\u001b[0m",
      "\u001b[1;31mModuleNotFoundError\u001b[0m                       Traceback (most recent call last)",
      "Cell \u001b[1;32mIn[4], line 1\u001b[0m\n\u001b[1;32m----> 1\u001b[0m \u001b[38;5;28;01mfrom\u001b[39;00m \u001b[38;5;21;01memployee\u001b[39;00m \u001b[38;5;28;01mimport\u001b[39;00m Employee, SalaryEmployee, HourlyEmployee, CommissionEmployee\n\u001b[0;32m      3\u001b[0m \u001b[38;5;28;01mclass\u001b[39;00m \u001b[38;5;21;01mCompany\u001b[39;00m:\n\u001b[0;32m      4\u001b[0m     \u001b[38;5;28;01mdef\u001b[39;00m \u001b[38;5;21m__init__\u001b[39m(\u001b[38;5;28mself\u001b[39m):\n",
      "\u001b[1;31mModuleNotFoundError\u001b[0m: No module named 'employee'"
     ]
    }
   ],
   "source": [
    "from employee import Employee, SalaryEmployee, HourlyEmployee, CommissionEmployee\n",
    "\n",
    "class Company:\n",
    "    def __init__(self):\n",
    "        self.employees = []\n",
    "\n",
    "    def add_employee(self, new_employee):\n",
    "        self.employees.append(new_employee)\n",
    "\n",
    "    def display_employees(self):\n",
    "        print('Current Employees:')\n",
    "        for i in self.employees:\n",
    "            print(i.fname, i.lname)\n",
    "        print('-------------------')\n",
    "\n",
    "    def pay_employees(self):\n",
    "        print('Paying Employees:')\n",
    "        for i in self.employees:\n",
    "            print('Paycheck for:', i.fname, i.lname)\n",
    "            print(f'Amount:  ${i.calculate_paycheck():,.2f}')\n",
    "            print('---------------------------')\n",
    "\n",
    "\n",
    "def main():\n",
    "    my_company = Company()\n",
    "\n",
    "    employee1 = SalaryEmployee('Sarah', 'Hess', 50000)\n",
    "    my_company.add_employee(employee1)\n",
    "    employee2 = HourlyEmployee('Lee', 'Smith', 25,50)\n",
    "    my_company.add_employee(employee2)\n",
    "    employee3 = CommissionEmployee('Bob', 'Brown', 30000, 5, 200)\n",
    "    my_company.add_employee(employee3)\n",
    "\n",
    "    my_company.display_employees()\n",
    "    my_company.pay_employees()\n",
    "\n",
    "main()"
   ]
  },
  {
   "cell_type": "markdown",
   "id": "74062124",
   "metadata": {},
   "source": [
    "Above you can see the 'company.py"
   ]
  }
 ],
 "metadata": {
  "kernelspec": {
   "display_name": "Python 3 (ipykernel)",
   "language": "python",
   "name": "python3"
  },
  "language_info": {
   "codemirror_mode": {
    "name": "ipython",
    "version": 3
   },
   "file_extension": ".py",
   "mimetype": "text/x-python",
   "name": "python",
   "nbconvert_exporter": "python",
   "pygments_lexer": "ipython3",
   "version": "3.11.5"
  }
 },
 "nbformat": 4,
 "nbformat_minor": 5
}
